{
 "cells": [
  {
   "cell_type": "markdown",
   "id": "b9019695-614e-48ed-8040-8b9a89f683c3",
   "metadata": {},
   "source": [
    "# DATA SCIENCE TOOLS and ECOSYSTEM"
   ]
  },
  {
   "cell_type": "markdown",
   "id": "04470f01-f415-4319-9137-6b6ec1ffc8b1",
   "metadata": {},
   "source": [
    "## Author\n",
    "\n",
    "Maddila Devisree Sai"
   ]
  },
  {
   "cell_type": "markdown",
   "id": "ce8cc2d6-9233-4ba7-a302-b258d2e3a705",
   "metadata": {},
   "source": [
    "In this notebook Data Science Tools & Ecosystem is sumarized"
   ]
  },
  {
   "cell_type": "markdown",
   "id": "acc6cf26-69ca-4faa-99fa-1c1e548596f7",
   "metadata": {},
   "source": [
    "**Objectives:**\n",
    "\n",
    "- List popular languages for Data Science\n",
    "- Identify broadly used libraries in Data Science\n",
    "- Understand the basics of evaluating arithmetic expressions in Python\n",
    "- Explore popular tools for Data Science\n",
    "- Creating tables in Jupyter Notebook using Markdown Cell"
   ]
  },
  {
   "cell_type": "markdown",
   "id": "6c590fb7-30e5-4ed1-a48b-a13099b3f1c0",
   "metadata": {},
   "source": [
    "Programming Languages which play a major role in the field of Data Science are :\n",
    "1. Python\n",
    "2. SQL\n",
    "3. R\n",
    "4. Ruby\n",
    "5. Julia\n",
    "6. Scala\n",
    "7. Java"
   ]
  },
  {
   "cell_type": "markdown",
   "id": "7466513f-94f1-4980-81b5-38c4b471f516",
   "metadata": {},
   "source": [
    "Some of the commonly used libraries are :\n",
    "1. Numpy\n",
    "2. Pandas\n",
    "3. Scikitlearn\n",
    "4. Keras\n",
    "5. Matplotlib\n",
    "6. Seaborn\n",
    "7. Tensorflow\n",
    "8. Pytorch"
   ]
  },
  {
   "cell_type": "markdown",
   "id": "8a712e28-4510-4812-a28d-7e1bb93ac29f",
   "metadata": {},
   "source": [
    "| Data Science Tools         |\n",
    "|----------------------------|\n",
    "| Jupyter Notebook           |\n",
    "| RStudio                    |\n",
    "| Kubernetes                 |\n"
   ]
  },
  {
   "cell_type": "markdown",
   "id": "a780cb97-45d0-4191-a986-bea33b24e892",
   "metadata": {},
   "source": [
    "### Examples for evaluating Arithematic Expressions in Python"
   ]
  },
  {
   "cell_type": "markdown",
   "id": "c59ae2bb-2d31-4ed5-9c05-436275851f69",
   "metadata": {},
   "source": [
    "#### Addition\n",
    "add = 5 + 4\n",
    "print('5 + 4 = ',add)\n",
    "\n",
    "#### Subtraction\n",
    "sub = 5 - 4\n",
    "print('5 - 4 = ',sub)\n",
    "\n",
    "#### Multiplication\n",
    "mul = 5 * 4\n",
    "print('5 * 4 = ',mul)\n",
    "\n",
    "#### Division\n",
    "div = 5 / 4\n",
    "print('5 / 4 = ',div)\n",
    "\n",
    "#### Floor Division (integer result)\n",
    "fdiv = 10 // 4\n",
    "print(\"10 // 4 = \", fdiv)\n",
    "\n",
    "#### Modulus (remainder)\n",
    "mod = 10 % 4\n",
    "print(\"10 % 4 = \", mod)\n",
    "\n",
    "#### Exponentiation (power)\n",
    "exp = 2 ** 3\n",
    "print(\"2 ** 3 = \", exp)\n",
    "\n",
    "#### Boolean\n",
    "grl = bool(9 > 5)\n",
    "print(grl)"
   ]
  },
  {
   "cell_type": "code",
   "execution_count": 26,
   "id": "16e01f56-627f-43a7-af5d-181af7713432",
   "metadata": {},
   "outputs": [
    {
     "name": "stdout",
     "output_type": "stream",
     "text": [
      "21\n"
     ]
    }
   ],
   "source": [
    "# A simple arithmetic expression for multiplication and addition of a an expression\n",
    "print(((3*4)+9))"
   ]
  },
  {
   "cell_type": "code",
   "execution_count": 32,
   "id": "501141a2-2673-401c-a56f-5af9aeb01596",
   "metadata": {},
   "outputs": [
    {
     "name": "stdout",
     "output_type": "stream",
     "text": [
      "200 minutes is equal to  3.3333333333333335 hours.\n"
     ]
    }
   ],
   "source": [
    "minutes = 200\n",
    "# Here's a simple code of converting minutes to hours in Python\n",
    "print('200 minutes is equal to ', 200/60, 'hours.')"
   ]
  },
  {
   "cell_type": "code",
   "execution_count": null,
   "id": "8bd13493-6125-45bd-8e92-cefd8a51569b",
   "metadata": {},
   "outputs": [],
   "source": []
  }
 ],
 "metadata": {
  "kernelspec": {
   "display_name": "Python [conda env:base] *",
   "language": "python",
   "name": "conda-base-py"
  },
  "language_info": {
   "codemirror_mode": {
    "name": "ipython",
    "version": 3
   },
   "file_extension": ".py",
   "mimetype": "text/x-python",
   "name": "python",
   "nbconvert_exporter": "python",
   "pygments_lexer": "ipython3",
   "version": "3.12.7"
  }
 },
 "nbformat": 4,
 "nbformat_minor": 5
}
